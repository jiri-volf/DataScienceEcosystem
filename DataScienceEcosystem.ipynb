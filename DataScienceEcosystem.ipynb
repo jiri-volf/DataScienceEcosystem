{
 "cells": [
  {
   "cell_type": "markdown",
   "id": "b9a977fb",
   "metadata": {},
   "source": [
    "# Data Science Tools and Ecosystem"
   ]
  },
  {
   "cell_type": "markdown",
   "id": "b8983cd9",
   "metadata": {},
   "source": [
    "In this notebook, Data Science Tools and Ecosystem are summarized."
   ]
  },
  {
   "cell_type": "markdown",
   "id": "a43ee4b0",
   "metadata": {},
   "source": [
    "\n",
    "Some of the popular languages that Data Scientists use are:\n",
    "\n",
    "1. Python\n",
    "2. R\n",
    "3. SQL\n",
    "4. Java\n",
    "5. Julia\n",
    "    "
   ]
  },
  {
   "cell_type": "markdown",
   "id": "89a8160b",
   "metadata": {},
   "source": [
    "\n",
    "Some of the commonly used libraries used by Data Scientists include:\n",
    "\n",
    "1. NumPy\n",
    "2. Pandas\n",
    "3. Scikit-learn\n",
    "4. TensorFlow\n",
    "5. Matplotlib\n",
    "    "
   ]
  },
  {
   "cell_type": "markdown",
   "id": "51254d91",
   "metadata": {},
   "source": [
    "\n",
    "| Data Science Tools |\n",
    "|--------------------|\n",
    "| Jupyter Notebooks   |\n",
    "| RStudio             |\n",
    "| Apache Zeppelin     |\n",
    "    "
   ]
  },
  {
   "cell_type": "markdown",
   "id": "b4109377",
   "metadata": {},
   "source": [
    "### Below are a few examples of evaluating arithmetic expressions in Python."
   ]
  },
  {
   "cell_type": "code",
   "execution_count": null,
   "id": "e6d3ea56",
   "metadata": {},
   "outputs": [],
   "source": [
    "\n",
    "# This is a simple arithmetic expression to multiply then add integers\n",
    "(3 * 4) + 5\n",
    "    "
   ]
  },
  {
   "cell_type": "code",
   "execution_count": null,
   "id": "696e1d77",
   "metadata": {},
   "outputs": [
    {
     "ename": "",
     "evalue": "",
     "output_type": "error",
     "traceback": [
      "\u001b[1;31mRunning cells with 'Python 3.11.9' requires the ipykernel package.\n",
      "\u001b[1;31mRun the following command to install 'ipykernel' into the Python environment. \n",
      "\u001b[1;31mCommand: 'c:/Users/volfj1/AppData/Local/Programs/Python/Python311/python.exe -m pip install ipykernel -U --user --force-reinstall'"
     ]
    }
   ],
   "source": [
    "\n",
    "# This will convert 200 minutes to hours by dividing by 60\n",
    "200 / 60\n",
    "    "
   ]
  },
  {
   "cell_type": "markdown",
   "id": "367b5eb6",
   "metadata": {},
   "source": [
    "\n",
    "**Objectives:**\n",
    "\n",
    "- List popular languages for Data Science\n",
    "- List commonly used libraries for Data Science\n",
    "- Demonstrate arithmetic operations in Python\n",
    "- Convert time units\n",
    "- Create and display a table in markdown\n",
    "    "
   ]
  },
  {
   "cell_type": "markdown",
   "id": "d560482f",
   "metadata": {},
   "source": [
    "## Author\n",
    "Jiří Volf"
   ]
  }
 ],
 "metadata": {
  "kernelspec": {
   "display_name": "Python 3",
   "language": "python",
   "name": "python3"
  },
  "language_info": {
   "name": "python",
   "version": "3.11.9"
  }
 },
 "nbformat": 4,
 "nbformat_minor": 5
}
